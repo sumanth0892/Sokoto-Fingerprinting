{
 "cells": [
  {
   "cell_type": "code",
   "execution_count": 1,
   "metadata": {},
   "outputs": [
    {
     "name": "stderr",
     "output_type": "stream",
     "text": [
      "Using TensorFlow backend.\n"
     ]
    }
   ],
   "source": [
    "import os \n",
    "import numpy as np\n",
    "import warnings\n",
    "warnings.filterwarnings('ignore')\n",
    "import dataPrep as dP\n",
    "import matplotlib.pyplot as plt\n",
    "from keras import models,layers \n",
    "from keras.utils.np_utils import to_categorical"
   ]
  },
  {
   "cell_type": "code",
   "execution_count": 2,
   "metadata": {},
   "outputs": [
    {
     "name": "stdout",
     "output_type": "stream",
     "text": [
      "{0, 1, 2, 3, 4, 5, 6, 7, 8, 9, 10, 11, 12, 13, 14, 15, 16, 17, 18, 19}\n",
      "19\n",
      "(6000, 96, 96, 1)\n",
      "(6000, 20)\n"
     ]
    }
   ],
   "source": [
    "images,labels = dP.getData(96)\n",
    "y_train = to_categorical(labels,num_classes = 20)\n",
    "x_train = images/255.0\n",
    "del images,labels #Free up some memory\n",
    "_,x,y,z = x_train.shape\n",
    "print(x_train.shape)\n",
    "print(y_train.shape)"
   ]
  },
  {
   "cell_type": "code",
   "execution_count": 4,
   "metadata": {
    "scrolled": true
   },
   "outputs": [
    {
     "name": "stdout",
     "output_type": "stream",
     "text": [
      "Model: \"sequential_2\"\n",
      "_________________________________________________________________\n",
      "Layer (type)                 Output Shape              Param #   \n",
      "=================================================================\n",
      "conv2d_4 (Conv2D)            (None, 48, 48, 64)        640       \n",
      "_________________________________________________________________\n",
      "max_pooling2d_4 (MaxPooling2 (None, 24, 24, 64)        0         \n",
      "_________________________________________________________________\n",
      "conv2d_5 (Conv2D)            (None, 12, 12, 64)        36928     \n",
      "_________________________________________________________________\n",
      "max_pooling2d_5 (MaxPooling2 (None, 6, 6, 64)          0         \n",
      "_________________________________________________________________\n",
      "conv2d_6 (Conv2D)            (None, 3, 3, 64)          36928     \n",
      "_________________________________________________________________\n",
      "max_pooling2d_6 (MaxPooling2 (None, 1, 1, 64)          0         \n",
      "_________________________________________________________________\n",
      "flatten_2 (Flatten)          (None, 64)                0         \n",
      "_________________________________________________________________\n",
      "dense_4 (Dense)              (None, 64)                4160      \n",
      "_________________________________________________________________\n",
      "dense_5 (Dense)              (None, 32)                2080      \n",
      "_________________________________________________________________\n",
      "dense_6 (Dense)              (None, 20)                660       \n",
      "=================================================================\n",
      "Total params: 81,396\n",
      "Trainable params: 81,396\n",
      "Non-trainable params: 0\n",
      "_________________________________________________________________\n"
     ]
    }
   ],
   "source": [
    "model = models.Sequential()\n",
    "model.add(layers.Conv2D(128,kernel_size = 3,strides = 2,activation = 'relu',padding = 'same',input_shape = (x,y,z)))\n",
    "model.add(layers.MaxPooling2D((2,2)))\n",
    "model.add(layers.Conv2D(64,kernel_size = 3,strides = 2,padding = 'same',activation = 'relu'))\n",
    "model.add(layers.MaxPooling2D((2,2)))\n",
    "model.add(layers.Conv2D(64,kernel_size = 3,strides = 2,padding = 'same',activation = 'relu'))\n",
    "model.add(layers.MaxPooling2D((2,2)))\n",
    "#model.add(layers.Dropout(0.5))\n",
    "model.add(layers.Flatten())\n",
    "model.add(layers.Dense(64,activation = 'relu'))\n",
    "model.add(layers.Dense(32,activation = 'relu'))\n",
    "model.add(layers.Dense(20,activation = 'softmax'))\n",
    "model.compile(loss = 'categorical_crossentropy',optimizer = 'rmsprop',metrics = ['accuracy'])\n",
    "model.summary()"
   ]
  },
  {
   "cell_type": "code",
   "execution_count": 5,
   "metadata": {},
   "outputs": [
    {
     "name": "stdout",
     "output_type": "stream",
     "text": [
      "Epoch 1/25\n",
      "6000/6000 [==============================] - 17s 3ms/step - loss: 2.8287 - accuracy: 0.0867\n",
      "Epoch 2/25\n",
      "6000/6000 [==============================] - 15s 3ms/step - loss: 2.6495 - accuracy: 0.1642\n",
      "Epoch 3/25\n",
      "6000/6000 [==============================] - 16s 3ms/step - loss: 2.3917 - accuracy: 0.2483\n",
      "Epoch 4/25\n",
      "6000/6000 [==============================] - 17s 3ms/step - loss: 2.2084 - accuracy: 0.2988\n",
      "Epoch 5/25\n",
      "6000/6000 [==============================] - 15s 3ms/step - loss: 2.0880 - accuracy: 0.3293\n",
      "Epoch 6/25\n",
      "6000/6000 [==============================] - 15s 3ms/step - loss: 2.0029 - accuracy: 0.3520\n",
      "Epoch 7/25\n",
      "6000/6000 [==============================] - 15s 3ms/step - loss: 1.9361 - accuracy: 0.3608\n",
      "Epoch 8/25\n",
      "6000/6000 [==============================] - 15s 2ms/step - loss: 1.8641 - accuracy: 0.3913\n",
      "Epoch 9/25\n",
      "6000/6000 [==============================] - 15s 3ms/step - loss: 1.8087 - accuracy: 0.4000\n",
      "Epoch 10/25\n",
      "6000/6000 [==============================] - 16s 3ms/step - loss: 1.7588 - accuracy: 0.4195\n",
      "Epoch 11/25\n",
      "6000/6000 [==============================] - 15s 3ms/step - loss: 1.7119 - accuracy: 0.4330\n",
      "Epoch 12/25\n",
      "6000/6000 [==============================] - 15s 3ms/step - loss: 1.6831 - accuracy: 0.4395\n",
      "Epoch 13/25\n",
      "6000/6000 [==============================] - 16s 3ms/step - loss: 1.6288 - accuracy: 0.4603\n",
      "Epoch 14/25\n",
      "6000/6000 [==============================] - 15s 3ms/step - loss: 1.5992 - accuracy: 0.4653\n",
      "Epoch 15/25\n",
      "6000/6000 [==============================] - 15s 3ms/step - loss: 1.5558 - accuracy: 0.4845\n",
      "Epoch 16/25\n",
      "6000/6000 [==============================] - 15s 3ms/step - loss: 1.5268 - accuracy: 0.4873\n",
      "Epoch 17/25\n",
      "6000/6000 [==============================] - 15s 3ms/step - loss: 1.4926 - accuracy: 0.4988\n",
      "Epoch 18/25\n",
      "6000/6000 [==============================] - 16s 3ms/step - loss: 1.4593 - accuracy: 0.5020\n",
      "Epoch 19/25\n",
      "6000/6000 [==============================] - 16s 3ms/step - loss: 1.4434 - accuracy: 0.5092\n",
      "Epoch 20/25\n",
      "6000/6000 [==============================] - 16s 3ms/step - loss: 1.3958 - accuracy: 0.5348\n",
      "Epoch 21/25\n",
      "6000/6000 [==============================] - 17s 3ms/step - loss: 1.3625 - accuracy: 0.5433\n",
      "Epoch 22/25\n",
      "6000/6000 [==============================] - 18s 3ms/step - loss: 1.3421 - accuracy: 0.5473\n",
      "Epoch 23/25\n",
      "6000/6000 [==============================] - 16s 3ms/step - loss: 1.3081 - accuracy: 0.5563\n",
      "Epoch 24/25\n",
      "6000/6000 [==============================] - 16s 3ms/step - loss: 1.2713 - accuracy: 0.5685\n",
      "Epoch 25/25\n",
      "6000/6000 [==============================] - 15s 3ms/step - loss: 1.2353 - accuracy: 0.5802\n"
     ]
    },
    {
     "name": "stderr",
     "output_type": "stream",
     "text": [
      "WARNING: Logging before flag parsing goes to stderr.\n",
      "W0615 15:45:52.394304 4550444480 legend.py:1282] No handles with labels found to put in legend.\n"
     ]
    },
    {
     "name": "stdout",
     "output_type": "stream",
     "text": [
      "dict_keys(['loss', 'accuracy'])\n"
     ]
    },
    {
     "data": {
      "image/png": "[encoded data removed]",
      "text/plain": [
       "<Figure size 432x288 with 1 Axes>"
      ]
     },
     "metadata": {
      "needs_background": "light"
     },
     "output_type": "display_data"
    }
   ],
   "source": [
    "#Early stopping and callbacks\n",
    "#Train without stopping and keras callbacks. \n",
    "history = model.fit(x_train,y_train,epochs = 25,batch_size = 64,verbose = 1)\n",
    "print(history.history.keys())\n",
    "loss = history.history['loss']\n",
    "accuracy = history.history['accuracy']\n",
    "epochs = range(1,len(loss)+1)\n",
    "plt.plot(epochs,loss,'bo')\n",
    "plt.plot(epochs,accuracy,'b')\n",
    "plt.xlabel('Epochs')\n",
    "plt.ylabel('Training accuracy and loss values')\n",
    "plt.legend(loc = 'best')\n",
    "plt.grid(True)\n",
    "plt.show()"
   ]
  },
  {
   "cell_type": "code",
   "execution_count": null,
   "metadata": {},
   "outputs": [],
   "source": []
  }
 ],
 "metadata": {
  "kernelspec": {
   "display_name": "Python 3",
   "language": "python",
   "name": "python3"
  },
  "language_info": {
   "codemirror_mode": {
    "name": "ipython",
    "version": 3
   },
   "file_extension": ".py",
   "mimetype": "text/x-python",
   "name": "python",
   "nbconvert_exporter": "python",
   "pygments_lexer": "ipython3",
   "version": "3.7.6"
  }
 },
 "nbformat": 4,
 "nbformat_minor": 4
}
